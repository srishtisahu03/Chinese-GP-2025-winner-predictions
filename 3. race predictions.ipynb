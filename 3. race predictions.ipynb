{
 "cells": [
  {
   "cell_type": "code",
   "execution_count": null,
   "id": "52393cd6-7ab0-42a6-a0e6-9daf80cec819",
   "metadata": {},
   "outputs": [],
   "source": [
    "!pip install fastf1\n",
    "import os\n",
    "import fastf1\n",
    "import pandas as pd\n",
    "import numpy as np\n",
    "from sklearn.model_selection import train_test_split\n",
    "from sklearn.ensemble import GradientBoostingRegressor\n",
    "from sklearn.metrics import mean_absolute_error\n",
    "\n",
    "cache_dir = \"f1_cache\"\n",
    "if not os.path.exists(cache_dir):\n",
    "    os.makedirs(cache_dir)  \n",
    "\n",
    "fastf1.Cache.enable_cache(cache_dir)\n",
    "\n",
    "session_2024 = fastf1.get_session(2024, 5, \"R\")\n",
    "session_2024.load();\n",
    "\n",
    "#2024 lap timings\n",
    "\n",
    "laps_2024 = session_2024.laps[[\"Driver\", \"LapTime\"]].copy()\n",
    "laps_2024.dropna(subset=[\"LapTime\"], inplace=True)\n",
    "laps_2024[\"LapTime (s)\"] = laps_2024[\"LapTime\"].dt.total_seconds()      \n",
    "\n",
    "# 2025 quali results\n",
    "\n",
    "qualifying_2025 = pd.DataFrame({\n",
    "    \"Driver\": [\"Oscar Piastri\", \"George Russell\", \"Lando Norris\", \"Max Verstappen\", \"Lewis Hamilton\", \"Charles Leclerc\", \"Isack Hadjar\", \"Andrea Kimi Antonelli\", \"Yuki Tsunoda\", \"Alex Albon\"],\n",
    "    \"QualifyingTime (s)\": [\"90.641\", \"90.723\", \"90.793\", \"90.817\", \"90.927\", \"91.021\", \"91.079\", \"91.103\", \"91.638\", \"91.706\"]      \n",
    "})\n",
    "\n",
    "driver_mapping = {\n",
    "    \"Oscar Piastri\": \"PIA\", \"George Russell\": \"RUS\", \"Lando Norris\": \"NOR\", \"Max Verstappen\": \"VER\", \"Lewis Hamilton\": \"HAM\", \"Charles Leclerc\": \"LEC\", \"Isack Hadjar\": \"HAD\", \"Andrea Kimi Antonelli\": \"ANT\", \"Yuki Tsunoda\": \"TSU\", \"Alex Albon\": \"ALB\"\n",
    "}\n",
    "\n",
    "qualifying_2025[\"DriverCode\"] = qualifying_2025[\"Driver\"].map(driver_mapping)\n",
    "qualifying_2025\n",
    "\n",
    "merged_data = qualifying_2025.merge(laps_2024, left_on=\"DriverCode\", right_on=\"Driver\")\n",
    "\n",
    "X = merged_data[[\"QualifyingTime (s)\"]]\n",
    "y = merged_data[\"LapTime (s)\"]\n",
    "\n",
    "if X.shape[0] == 0:\n",
    "    raise ValueError(\"Dataset is empty!\")\n",
    "\n",
    "X_train, X_test, y_train, y_test = train_test_split(X, y, test_size = 0.2, random_state=40)\n",
    "model = GradientBoostingRegressor(n_estimators=100, learning_rate=0.1, random_state=40)\n",
    "model.fit(X_train, y_train)\n",
    "\n"
   ]
  }
 ],
 "metadata": {
  "kernelspec": {
   "display_name": "Python [conda env:base] *",
   "language": "python",
   "name": "conda-base-py"
  },
  "language_info": {
   "codemirror_mode": {
    "name": "ipython",
    "version": 3
   },
   "file_extension": ".py",
   "mimetype": "text/x-python",
   "name": "python",
   "nbconvert_exporter": "python",
   "pygments_lexer": "ipython3",
   "version": "3.12.7"
  }
 },
 "nbformat": 4,
 "nbformat_minor": 5
}
